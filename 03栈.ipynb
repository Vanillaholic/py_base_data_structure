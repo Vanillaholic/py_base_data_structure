{
  "metadata": {
    "kernelspec": {
      "name": "python",
      "display_name": "Python (Pyodide)",
      "language": "python"
    },
    "language_info": {
      "codemirror_mode": {
        "name": "python",
        "version": 3
      },
      "file_extension": ".py",
      "mimetype": "text/x-python",
      "name": "python",
      "nbconvert_exporter": "python",
      "pygments_lexer": "ipython3",
      "version": "3.8"
    }
  },
  "nbformat_minor": 4,
  "nbformat": 4,
  "cells": [
    {
      "cell_type": "markdown",
      "source": "## 栈\n栈通常用于实现函数调用、递归、表达式求值等操作\n### 顺序表实现 ",
      "metadata": {}
    },
    {
      "cell_type": "code",
      "source": "class Stack:\n    def __init__(self):\n        self.data = []\n    def push(self,val):             #入栈\n        self.data.append(val)\n    def pop(self):                  #出栈\n        if self.empty():\n            return \"Stack is empty\"\n        return self.data.pop()\n    def top(self):                  #获取栈顶\n        if self.empty():\n            return \"Stack is empty\"\n        return self.data[-1]\n    def size(self):                  #栈大小\n        return len(self.data)\n    def empty(self):                #栈是否空\n        return len(self.data) == 0",
      "metadata": {
        "trusted": true
      },
      "outputs": [],
      "execution_count": 11
    },
    {
      "cell_type": "code",
      "source": "stk = Stack()\nstk.push(1)\nstk.push(2)\nstk.push(6)\nstk.push(5)",
      "metadata": {
        "trusted": true
      },
      "outputs": [],
      "execution_count": 4
    },
    {
      "cell_type": "code",
      "source": "print(stk.top())",
      "metadata": {
        "trusted": true
      },
      "outputs": [
        {
          "name": "stdout",
          "text": "5\n",
          "output_type": "stream"
        }
      ],
      "execution_count": 5
    },
    {
      "cell_type": "code",
      "source": "while not stk.empty():\n    stk.pop()\nstk.empty()",
      "metadata": {
        "trusted": true
      },
      "outputs": [
        {
          "execution_count": 8,
          "output_type": "execute_result",
          "data": {
            "text/plain": "True"
          },
          "metadata": {}
        }
      ],
      "execution_count": 8
    },
    {
      "cell_type": "code",
      "source": "class MyStack:\n    def __init__(self):\n        self.data = []\n    def push(self,val):\n        self.data.append(val)\n    def pop(self):\n        if self.empty():\n            return \"stack is empty\"\n        return self.data.pop()\n    def top(self):\n        if self.empty():\n            return \"stack is empty\"\n        return self.data[-1]\n    def size(self):\n        return len(self.data)\n    def empty(self):\n        return len(self.data) == 0",
      "metadata": {
        "trusted": true
      },
      "outputs": [],
      "execution_count": 19
    },
    {
      "cell_type": "markdown",
      "source": "实际上，列表就可以当作栈来使用\n入栈·append·\n栈顶：·[-1]·\n出栈·pop()·",
      "metadata": {}
    }
  ]
}