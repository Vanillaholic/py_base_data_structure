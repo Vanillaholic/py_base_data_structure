{
  "metadata": {
    "kernelspec": {
      "name": "python",
      "display_name": "Python (Pyodide)",
      "language": "python"
    },
    "language_info": {
      "codemirror_mode": {
        "name": "python",
        "version": 3
      },
      "file_extension": ".py",
      "mimetype": "text/x-python",
      "name": "python",
      "nbconvert_exporter": "python",
      "pygments_lexer": "ipython3",
      "version": "3.8"
    },
    "colab": {
      "provenance": [],
      "toc_visible": true,
      "include_colab_link": true
    }
  },
  "nbformat_minor": 0,
  "nbformat": 4,
  "cells": [
    {
      "cell_type": "markdown",
      "metadata": {
        "id": "view-in-github",
        "colab_type": "text"
      },
      "source": [
        "<a href=\"https://colab.research.google.com/github/Yakitoriholic/py_base_data_structure/blob/main/notebook.ipynb\" target=\"_parent\"><img src=\"https://colab.research.google.com/assets/colab-badge.svg\" alt=\"Open In Colab\"/></a>"
      ]
    },
    {
      "cell_type": "markdown",
      "source": [
        "# 数据结构基础"
      ],
      "metadata": {
        "id": "U9II097NsR9W"
      }
    },
    {
      "cell_type": "markdown",
      "source": [
        "## 1.顺序表"
      ],
      "metadata": {
        "id": "zWlydZWFand_"
      }
    },
    {
      "cell_type": "code",
      "source": [
        "\n",
        "class SequentialList:\n",
        "    def __init__(self):\n",
        "        self.capacity = 10\n",
        "        self.size = 0\n",
        "        self.elements = [0] * self.capacity\n",
        "\n",
        "    def __del__(self):\n",
        "\n",
        "        del self.elements\n",
        "\n",
        "    def size(self):\n",
        "\n",
        "        return self.size\n",
        "\n",
        "    def is_empty(self):\n",
        "\n",
        "        return self.size == 0\n",
        "\n",
        "    def insert(self, index, element):\n",
        "\n",
        "        if index < 0 or index > self.size:\n",
        "            raise ValueError(\"Invalid index\")\n",
        "        if self.size == self.capacity:\n",
        "            self.resize()\n",
        "        for i in range(self.size, index, -1):\n",
        "            self.elements[i] = self.elements[i - 1]\n",
        "        self.elements[index] = element\n",
        "        self.size += 1\n",
        "\n",
        "    def remove(self, index):\n",
        "\n",
        "        if index < 0 or index >= self.size:\n",
        "            raise ValueError(\"Invalid index\")\n",
        "        self.elements[index] = 0\n",
        "        for i in range(index + 1, self.size):\n",
        "            self.elements[i - 1] = self.elements[i]\n",
        "        self.size -= 1\n",
        "\n",
        "    def get(self, index):\n",
        "\n",
        "        if index < 0 or index >= self.size:\n",
        "            raise ValueError(\"Invalid index\")\n",
        "        return self.elements[index]\n",
        "\n",
        "    def set(self, index, element):\n",
        "\n",
        "        if index < 0 or index >= self.size:\n",
        "            raise ValueError(\"Invalid index\")\n",
        "        self.elements[index] = element\n",
        "\n",
        "    def find(self, element):\n",
        "\n",
        "        for i in range(self.size):\n",
        "            if self.elements[i] == element:\n",
        "                return i\n",
        "        return -1\n",
        "\n",
        "    def resize(self):\n",
        "\n",
        "        new_capacity = self.capacity * 2\n",
        "        new_elements = [0] * new_capacity\n",
        "        for i in range(self.size):\n",
        "            new_elements[i] = self.elements[i]\n",
        "        self.capacity = new_capacity\n",
        "        self.elements = new_elements\n",
        "\n",
        "    def __iter__(self):\n",
        "\n",
        "        for i in range(self.size):\n",
        "            yield self.elements[i]\n",
        "\n",
        "    def __str__(self):\n",
        "\n",
        "        return \"Sequential List: \" + str(self.elements[:self.size])\n"
      ],
      "metadata": {
        "trusted": true,
        "id": "ZwdineFsaneA"
      },
      "outputs": [],
      "execution_count": null
    },
    {
      "cell_type": "markdown",
      "source": [
        "此外直接使用python中的列表\n",
        "\n",
        "习题：\n",
        "\n",
        "*   [值相等的最小索引](https://leetcode.cn/problems/smallest-index-with-equal-value/description/) ✔\n",
        "*   [数组中两元素的最大乘积](https://leetcode.cn/problems/maximum-product-of-two-elements-in-an-array/description/)❌记得复习\n",
        "*   [移除元素](https://leetcode.cn/problems/remove-element/description/)❌双指针\n"
      ],
      "metadata": {
        "id": "wZkaMpKSaneB"
      }
    },
    {
      "cell_type": "markdown",
      "source": [
        "## 2.单向链表"
      ],
      "metadata": {
        "id": "bOfPzDOGaneB"
      }
    },
    {
      "cell_type": "markdown",
      "source": [
        "[节点的插入](https://article-images.zsxq.com/Fpp_XSGo1wN5ieDfQn7YwxOT-Gj9)\n",
        "\n",
        "[节点的删除](https://article-images.zsxq.com/FiWhweABsj6POxAQxsK7hMujSmmS)\n",
        "\n",
        "[元素的查找](https://article-images.zsxq.com/FnT2SzXI0mSCEj4_BQgbvcFxT8iI)\n",
        "\n",
        "[元素的索引](https://article-images.zsxq.com/FnT2SzXI0mSCEj4_BQgbvcFxT8iI)\n",
        "\n",
        "[元素的修改](https://article-images.zsxq.com/FnT2SzXI0mSCEj4_BQgbvcFxT8iI)"
      ],
      "metadata": {
        "id": "PlWdcU9EopmZ"
      }
    },
    {
      "cell_type": "code",
      "source": [
        "class ListNode:  #python中没有指针，先定义一个节点\n",
        "    def __init__(self,x):\n",
        "        self.val = x      #数据域\n",
        "        self.next = None  #指针域\n",
        "\n",
        "class LinkedList:\n",
        "    def __init__(self):\n",
        "        # 初始化链表，将链表头指针设为None，表示链表初始为空\n",
        "        self.head = None\n",
        "        # 初始化链表长度为0，用于记录链表中节点的个数\n",
        "        self.len = 0\n",
        "\n",
        "    def size(self):\n",
        "        # 返回链表当前的长度，外部代码可以通过调用此方法获取链表节点数量\n",
        "        return self.len\n",
        "\n",
        "    def insert(self, pos, val):\n",
        "        # 检查传入的插入位置pos是否有效\n",
        "        # 如果pos小于0或者大于链表当前长度self.len，则抛出ValueError异常表示位置无效\n",
        "        if pos < 0 or pos > self.len:\n",
        "            raise ValueError(\"无效的位置\")\n",
        "        # 创建一个新的节点，其值为传入的val，这里假设ListNode是一个已经定义好的表示链表节点的类\n",
        "        newNode = ListNode(val)\n",
        "        if pos == 0:\n",
        "            # 如果插入位置是0，也就是在链表头部插入节点\n",
        "            # 先让新节点的next指针指向当前的头节点（self.head）\n",
        "            newNode.next = self.head\n",
        "            # 再更新链表的头指针self.head为新节点，使新节点成为链表的新头部\n",
        "            self.head = newNode\n",
        "        else:\n",
        "       # 如果插入位置大于0，说明要在链表中间或者尾部插入节点。\n",
        "        # 首先，我们需要找到要插入位置的前一个节点，用 prev 指针来指向它。\n",
        "        # 先将 prev 指针初始化为链表的头节点 self.head，因为我们要从链表头开始遍历查找。\n",
        "            prev = self.head\n",
        "        # 通过以下循环，从链表头开始，让 prev 指针逐步向后移动，每次移动到下一个节点，\n",
        "        # 循环次数为 pos - 1 次，这样就能保证循环结束后，prev 指针正好指向要插入位置的前一个节点。\n",
        "        # 例如，要在位置 3 插入节点（pos = 3），那我们需要从链表头开始移动 2 次（pos - 1 = 2），\n",
        "        # 使得 prev 指针停留在第 2 个节点处，该节点就是要插入位置（第 3 个位置）的前一个节点。\n",
        "            for _ in range(pos - 1):\n",
        "                prev = prev.next\n",
        "        # 找到要插入位置的前一个节点（prev 所指向的节点）后，接下来要进行插入操作。\n",
        "        # 先将新节点（newNode）的 next 指针指向 prev 节点的下一个节点（prev.next），\n",
        "        # 这一步操作相当于把新节点“接入”到链表中，让它指向原来在插入位置上的那个节点，\n",
        "        # 保证链表在插入新节点后节点之间的连接依然正确。\n",
        "            newNode.next = prev.next\n",
        "        # 然后，再将 prev 节点的 next 指针指向新节点，这样就完成了新节点在指定位置的插入。\n",
        "        # 此时，prev 节点原本指向的下一个节点变成了新节点的后继节点，新节点成功插入到了链表中指定的位置。\n",
        "            prev.next = newNode\n",
        "\n",
        "        self.len += 1\n",
        "\n",
        "    def delete(self, pos):\n",
        "        if pos < 0 or pos >= self.len:\n",
        "            raise ValueError(\"无效的位置\")\n",
        "        if pos == 0:\n",
        "            self.head = self.head.next\n",
        "        else:\n",
        "            prev = self.head\n",
        "            for _ in range(pos - 1):\n",
        "                prev = prev.next\n",
        "            prev.next = prev.next.next\n",
        "        self.len -= 1\n",
        "\n",
        "    def update(self, pos, val):\n",
        "        if pos < 0 or pos >= self.len:\n",
        "            raise ValueError(\"无效的位置\")\n",
        "        if pos == 0:\n",
        "            self.head.val = val\n",
        "        else:\n",
        "            current = self.head\n",
        "            for _ in range(pos):\n",
        "                current = current.next\n",
        "            current.val = val\n",
        "\n",
        "    def search(self, val):\n",
        "        current = self.head\n",
        "        while current:\n",
        "            if current.val == val:\n",
        "                return current\n",
        "            current = current.next\n",
        "        return None\n",
        "\n",
        "    def index(self, val):\n",
        "        index = 0\n",
        "        current = self.head\n",
        "        while current:\n",
        "            if current.val == val:\n",
        "                return index\n",
        "            index += 1\n",
        "            current = current.next\n",
        "        return -1\n",
        "\n",
        "    def print(self):\n",
        "        current = self.head\n",
        "        while current:\n",
        "            print(current.val, end='->')\n",
        "            current = current.next\n",
        "        print('None')"
      ],
      "metadata": {
        "trusted": true,
        "id": "73cA_ophaneB"
      },
      "outputs": [],
      "execution_count": null
    },
    {
      "cell_type": "code",
      "source": [
        "class ListNode:\n",
        "  def __init__(self,val):\n",
        "    self.next = None\n",
        "    self.val = val\n",
        "\n",
        "class MyLinkedList:\n",
        "  def __init__(self):\n",
        "    self.len = 0\n",
        "    self.head = None\n",
        "\n",
        "  def insert(self,pos,val):#插入节点\n",
        "    if pos<0 or pos >self.len:\n",
        "      raise ValueError(\"Invalid Position!\")\n",
        "    newNode = ListNode(val)\n",
        "    if pos == 0:\n",
        "      newNode.next = self.head\n",
        "      self.head = newNode\n",
        "    else:\n",
        "      prev = self.head\n",
        "      for _ in range(pos - 1):\n",
        "          prev = prev.next\n",
        "      newNode.next = prev.next\n",
        "      prev.next = newNode\n",
        "    self.len += 1\n",
        "\n",
        "  def delete(self,pos):#对于链表，要访问当前节点，最好遍历到之前的节点\n",
        "    if self.len == 0:\n",
        "      raise ValueError(\"List is empty\")\n",
        "    if pos<0 or pos >self.len:\n",
        "      raise ValueError(\"Invalid Position!\")\n",
        "    if pos == 0:\n",
        "      self.head = self.head.next\n",
        "    else:\n",
        "      prev = self.head\n",
        "      for _ in range(pos -1):\n",
        "        prev = prev.next\n",
        "      prev.next = prev.next.next\n",
        "\n",
        "    self.len -= 1\n",
        "  def update(self,pos,val):#更新节点的值\n",
        "      if pos<0 or pos >self.len:\n",
        "        raise ValueError(\"Invalid Position!\")\n",
        "      if self.len == 0:\n",
        "        raise ValueError(\"List is empty\")\n",
        "      current = self.head\n",
        "      for _ in range(pos):\n",
        "        current = current.next\n",
        "      current.val = val\n",
        "  # def update(self,pos,val):\n",
        "  #   if pos<0 or pos >self.len:\n",
        "  #     raise ValueError(\"Invalid Position!\")\n",
        "  #   if self.len == 0:\n",
        "  #     raise ValueError(\"List is empty\")\n",
        "  #   newNode = ListNode(val)\n",
        "  #   if pos == 0:\n",
        "  #     self.head.next = newNode.next\n",
        "  #     self.head = newNode\n",
        "  #   else:\n",
        "  #     prev = self.head\n",
        "  #     for _ in range(self.len):\n",
        "  #       prev = prev.next\n",
        "  #     prev.next.next = newNode.next\n",
        "  #     prev.next = newNode\n",
        "  def search(self,val):\n",
        "      current = self.head\n",
        "      while current:#如果current非空\n",
        "        if current.val == val:\n",
        "          return current\n",
        "        current = current.next#一直遍历下去\n",
        "      return None\n",
        "  def index(self,val):\n",
        "      idx = 0\n",
        "      current = self.head\n",
        "      while current:\n",
        "        if current.val == val:\n",
        "          return  idx\n",
        "        else:\n",
        "          idx += 1\n",
        "          current = current.next\n",
        "      return -1\n",
        "  def print(self):\n",
        "      current = self.head\n",
        "      while current:\n",
        "        print(current.val,end ='->')\n",
        "        current = current.next\n",
        "      print('None')"
      ],
      "metadata": {
        "id": "S9bdOtvgEtl9"
      },
      "execution_count": null,
      "outputs": []
    },
    {
      "cell_type": "code",
      "source": [
        "l=MyLinkedList()\n",
        "l.insert(0,2)\n",
        "l.insert(1,1)\n",
        "l.insert(2,4)\n",
        "l.print()"
      ],
      "metadata": {
        "trusted": true,
        "id": "DlzlqgXRaneB",
        "colab": {
          "base_uri": "https://localhost:8080/"
        },
        "outputId": "c605ef7d-b723-4b47-da00-2d83c915ca9f"
      },
      "outputs": [
        {
          "output_type": "stream",
          "name": "stdout",
          "text": [
            "2->1->4->None\n"
          ]
        }
      ],
      "execution_count": null
    },
    {
      "cell_type": "code",
      "source": [
        "l.index(1),l.index(2)\n",
        "l.insert(1,45)\n",
        "l.print()"
      ],
      "metadata": {
        "colab": {
          "base_uri": "https://localhost:8080/"
        },
        "id": "GuRPvJ8Orglr",
        "outputId": "5d823758-30f9-4c92-93f8-0cce0b47d21a"
      },
      "execution_count": null,
      "outputs": [
        {
          "output_type": "stream",
          "name": "stdout",
          "text": [
            "2->45->1->4->None\n"
          ]
        }
      ]
    },
    {
      "cell_type": "markdown",
      "source": [
        "[返回倒数第k个节点](https://leetcode.cn/problems/kth-node-from-end-of-list-lcci/description/)\n",
        "\n",
        "[删除排序链表中的重复元素](https://leetcode.cn/problems/remove-duplicates-from-sorted-list/)\n",
        "\n",
        "[移除重复节点](https://leetcode.cn/problems/remove-duplicate-node-lcci/description/)"
      ],
      "metadata": {
        "id": "PrmaLSjwm2yF"
      }
    },
    {
      "cell_type": "markdown",
      "source": [
        "## 3.栈"
      ],
      "metadata": {
        "id": "MPog9YPtaneB"
      }
    },
    {
      "cell_type": "markdown",
      "source": [
        "[入栈图解](https://article-images.zsxq.com/Fjbe5Nt2AoMC1016p6k0CLf3Ubhy)\n",
        "\n",
        "[出栈图解](https://article-images.zsxq.com/Fi2AEjNGzWmiaiiq_wjLFqtsQYKl)\n",
        "\n",
        "栈通常用于实现函数调用、递归、表达式求值等操作\n",
        "\n",
        "顺序表实现"
      ],
      "metadata": {
        "id": "7_8ZZTjsoRwS"
      }
    },
    {
      "cell_type": "markdown",
      "source": [],
      "metadata": {
        "id": "2yrJFZJcoNBS"
      }
    },
    {
      "cell_type": "code",
      "source": [
        "class Stack:\n",
        "    def __init__(self):\n",
        "        self.data = []\n",
        "    def push(self,val):             #入栈\n",
        "        self.data.append(val)\n",
        "    def pop(self):                  #出栈\n",
        "        if self.empty():\n",
        "            return \"Stack is empty\"\n",
        "        return self.data.pop()\n",
        "    def top(self):                  #获取栈顶\n",
        "        if self.empty():\n",
        "            return \"Stack is empty\"\n",
        "        return self.data[-1]\n",
        "    def size(self):                  #栈大小\n",
        "        return len(self.data)\n",
        "    def empty(self):                #栈是否空\n",
        "        return len(self.data) == 0"
      ],
      "metadata": {
        "trusted": true,
        "id": "pM_VHrEvaneC"
      },
      "outputs": [],
      "execution_count": null
    },
    {
      "cell_type": "code",
      "source": [
        "stk = Stack()\n",
        "stk.push(1)\n",
        "stk.push(2)\n",
        "stk.push(6)\n",
        "stk.push(5)"
      ],
      "metadata": {
        "trusted": true,
        "id": "7WLLhIECaneC"
      },
      "outputs": [],
      "execution_count": null
    },
    {
      "cell_type": "code",
      "source": [
        "print(stk.top())"
      ],
      "metadata": {
        "trusted": true,
        "id": "CKQQ-lKsaneC"
      },
      "outputs": [],
      "execution_count": null
    },
    {
      "cell_type": "code",
      "source": [
        "while not stk.empty():\n",
        "    stk.pop()\n",
        "stk.empty()"
      ],
      "metadata": {
        "trusted": true,
        "id": "-0Bm_so-aneC"
      },
      "outputs": [],
      "execution_count": null
    },
    {
      "cell_type": "code",
      "source": [
        "class MyStack:\n",
        "    def __init__(self):\n",
        "        self.data = []\n",
        "    def push(self,val):\n",
        "        self.data.append(val)\n",
        "    def pop(self):\n",
        "        if self.empty():\n",
        "            return \"stack is empty\"\n",
        "        return self.data.pop()\n",
        "    def top(self):\n",
        "        if self.empty():\n",
        "            return \"stack is empty\"\n",
        "        return self.data[-1]\n",
        "    def size(self):\n",
        "        return len(self.data)\n",
        "    def empty(self):\n",
        "        return len(self.data) == 0"
      ],
      "metadata": {
        "trusted": true,
        "id": "JDjHNxN4aneC"
      },
      "outputs": [],
      "execution_count": null
    },
    {
      "cell_type": "markdown",
      "source": [
        "实际上，列表就可以当作栈来使用\n",
        "\n",
        "入栈:`append`\n",
        "\n",
        "栈顶：`data[-1]`\n",
        "\n",
        "出栈:`pop()`\n",
        "\n",
        "[图书整理](https://leetcode.cn/problems/cong-wei-dao-tou-da-yin-lian-biao-lcof/description/)\n",
        "\n",
        "[回文链表](https://leetcode.cn/problems/aMhZSa/description/)\n",
        "\n",
        "[括号的最大嵌套深度](https://leetcode.cn/problems/maximum-nesting-depth-of-the-parentheses/description/)"
      ],
      "metadata": {
        "id": "6KXjRu1VaneC"
      }
    },
    {
      "cell_type": "markdown",
      "source": [
        "## 4.队列"
      ],
      "metadata": {
        "id": "wK_m5gXoaneC"
      }
    },
    {
      "cell_type": "markdown",
      "source": [
        "[入队](https://article-images.zsxq.com/Fh7NPl-QlvFnybLJ7ue5kLxK4vj-)\n",
        "\n",
        "[出队](https://article-images.zsxq.com/Fl6ZPy9UNzXQRedoRdQfJD5eksGb)\n",
        "\n",
        "[获取队首](https://article-images.zsxq.com/FuaHin96puVBMlbrGSMMG1KUajkE)"
      ],
      "metadata": {
        "id": "qAhT6TDiqj-W"
      }
    },
    {
      "cell_type": "code",
      "source": [
        "class Queue:\n",
        "    def __init__(self):\n",
        "        self.data = []\n",
        "        self.head = 0        #头指针为0\n",
        "        self.tail = 0        #尾指针为0\n",
        "    def push(self,val):\n",
        "        self.data.append(val)\n",
        "        self.tail += 1\n",
        "    def pop(self):            #删除\n",
        "        if self.empty():\n",
        "            raise \"Queue is empty\"\n",
        "        val = self.data[self.head]\n",
        "        self.head += 1\n",
        "        return val  ###################\n",
        "\n",
        "    def front(self):\n",
        "        if self.empty():\n",
        "            raise \"Queue is empty\"\n",
        "        val = self.data[self.head]\n",
        "        return val\n",
        "\n",
        "    def size(self):\n",
        "        return self.tail - self.head\n",
        "\n",
        "    def empty(self):\n",
        "        return self.head == self.tail\n",
        "\n",
        "    def print(self):\n",
        "        for i in range(self.size()):\n",
        "            print(self.data[self.head+i],end ='-')\n",
        "        print('None')\n"
      ],
      "metadata": {
        "trusted": true,
        "id": "h5a9rCKeaneC"
      },
      "outputs": [],
      "execution_count": null
    },
    {
      "cell_type": "code",
      "source": [
        "q = Queue()\n",
        "q.push(1)\n",
        "q.push(2)\n",
        "q.push(3)"
      ],
      "metadata": {
        "trusted": true,
        "id": "mbJ-HwoManeC"
      },
      "outputs": [],
      "execution_count": null
    },
    {
      "cell_type": "code",
      "source": [
        "q.print(),q.size()"
      ],
      "metadata": {
        "colab": {
          "base_uri": "https://localhost:8080/"
        },
        "id": "3eWap7dE3wTU",
        "outputId": "e0b8571e-1be5-4163-8bea-a1d9a469da42"
      },
      "execution_count": null,
      "outputs": [
        {
          "output_type": "stream",
          "name": "stdout",
          "text": [
            "1-2-3-None\n"
          ]
        },
        {
          "output_type": "execute_result",
          "data": {
            "text/plain": [
              "(None, 3)"
            ]
          },
          "metadata": {},
          "execution_count": 105
        }
      ]
    },
    {
      "cell_type": "code",
      "source": [
        "while not q.empty():\n",
        "    print(q.front())\n",
        "    q.pop()"
      ],
      "metadata": {
        "trusted": true,
        "id": "-HlYNQiOaneC",
        "colab": {
          "base_uri": "https://localhost:8080/"
        },
        "outputId": "e21abe20-9eb5-48d1-a23d-46ee9e6bf3ed"
      },
      "outputs": [
        {
          "output_type": "stream",
          "name": "stdout",
          "text": [
            "1\n",
            "2\n",
            "3\n"
          ]
        }
      ],
      "execution_count": null
    },
    {
      "cell_type": "code",
      "source": [
        "q.empty()"
      ],
      "metadata": {
        "trusted": true,
        "id": "BMKjtVgZaneC",
        "colab": {
          "base_uri": "https://localhost:8080/"
        },
        "outputId": "4af1c406-fcd5-44a0-ea59-3acfc8ae71ba"
      },
      "outputs": [
        {
          "output_type": "execute_result",
          "data": {
            "text/plain": [
              "False"
            ]
          },
          "metadata": {},
          "execution_count": 97
        }
      ],
      "execution_count": null
    },
    {
      "cell_type": "code",
      "source": [
        "q.push(5)\n",
        "print(q.front())"
      ],
      "metadata": {
        "trusted": true,
        "id": "Wdke5es6aneD",
        "colab": {
          "base_uri": "https://localhost:8080/"
        },
        "outputId": "04c0afec-1909-4afb-9d58-4e3061dbe687"
      },
      "outputs": [
        {
          "output_type": "stream",
          "name": "stdout",
          "text": [
            "5\n"
          ]
        }
      ],
      "execution_count": null
    },
    {
      "cell_type": "code",
      "source": [
        "q.size()"
      ],
      "metadata": {
        "colab": {
          "base_uri": "https://localhost:8080/"
        },
        "id": "Z_nhiHxBwL4u",
        "outputId": "48bc1431-bacb-45d8-9513-089bdb09e731"
      },
      "execution_count": null,
      "outputs": [
        {
          "output_type": "execute_result",
          "data": {
            "text/plain": [
              "3"
            ]
          },
          "metadata": {},
          "execution_count": 99
        }
      ]
    },
    {
      "cell_type": "markdown",
      "source": [
        "[最近的请求次数](https://leetcode.cn/problems/number-of-recent-calls/description/)\n",
        "\n",
        "[数据流中的移动平均值](https://leetcode.cn/problems/qIsx9U/description/)"
      ],
      "metadata": {
        "id": "uifc_JSLn9_M"
      }
    },
    {
      "cell_type": "markdown",
      "source": [
        "## 5.栈&队列"
      ],
      "metadata": {
        "id": "Ku3Lfg37a5mK"
      }
    },
    {
      "cell_type": "markdown",
      "source": [
        "### 5.1用队列实现栈\n"
      ],
      "metadata": {
        "id": "G713SrdWuLV4"
      }
    },
    {
      "cell_type": "markdown",
      "source": [
        "[力扣题目](https://leetcode.cn/problems/implement-stack-using-queues/submissions/586560120/)\n",
        "\n",
        "底层数据结构为队列,要满足这个需求,必须要用到两个队列,一个是**主队列q1**,一个是**辅助队列q2**\n",
        "\n",
        "***注意:辅助队列每次操作完毕一定会变成空的***\n",
        "\n",
        "入栈操作:将元素在q1中入队\n",
        "\n",
        "出栈操作:\n",
        "\n",
        "1.如果q1没有元素,那么这个操作非法\n",
        "\n",
        "2.判断q1的元素个数是否大于1,如果大于1,则将q1的元素全部按照顺序在q2入队\n",
        "\n",
        "3.获取q1的队首元素,保存起来用于最后返回;并将q1执行出队操作;\n",
        "\n",
        "4.将q2的元素全部按照顺序在q1入队\n",
        "\n",
        "5.返回第三部中保存起来的q1队首元素\n",
        "\n",
        "获取栈顶元素:\n",
        "\n",
        "1.如果q1没有元素,那么这个操作非法\n",
        "\n",
        "2.判断q1的元素个数是否大于1,如果大于1,则将q1的元素全部按照顺序在q2入队\n",
        "\n",
        "3.获取q1的队首元素,保存起来用于最后返回;并将q1执行出队操作;**并且将这个元素在q2入对**\n",
        "\n",
        "栈是否为空:\n",
        "\n",
        "q1如果空,则栈空\n",
        "\n",
        "4.将q2的元素全部按照顺序在q1入队\n",
        "\n",
        "5.返回第三部中保存起来的q1队首元素"
      ],
      "metadata": {
        "id": "MkNMYHMz4RMy"
      }
    },
    {
      "cell_type": "code",
      "source": [
        "'''实现队列'''\n",
        "class Queue:\n",
        "    def __init__(self):\n",
        "        self.data = []\n",
        "        self.head = 0        #头指针为0\n",
        "        self.tail = 0        #尾指针为0\n",
        "    def push(self,val):\n",
        "        self.data.append(val)\n",
        "        self.tail += 1\n",
        "    def pop(self):            #删除\n",
        "        if self.empty():\n",
        "            raise \"Queue is empty\"\n",
        "        val = self.data[self.head]\n",
        "        self.head += 1\n",
        "        return val  ###################\n",
        "\n",
        "    def front(self):\n",
        "        if self.empty():\n",
        "            raise \"Queue is empty\"\n",
        "        val = self.data[self.head]\n",
        "        return val\n",
        "\n",
        "    def size(self):\n",
        "        return self.tail - self.head\n",
        "\n",
        "    def empty(self):\n",
        "        return self.head == self.tail\n",
        "\n",
        "\n",
        "class MyStack:\n",
        "    def __init__(self):\n",
        "        self.q1 = Queue()\n",
        "        self.q2 = Queue()\n",
        "    def push(self,val) -> None:\n",
        "        self.q1.push(val)\n",
        "\n",
        "    def pop(self):\n",
        "        '''实际上就是将一个容器作为暂存容器'''\n",
        "\n",
        "        #当大于1时,将q1的元素pop进q2中\n",
        "        while self.q1.size() >1:\n",
        "            self.q2.push(self.q1.pop())\n",
        "        #将q1剩下的一个元素放进res\n",
        "        res = self.q1.pop()\n",
        "        #将q2中的元素再放进q1\n",
        "        while self.q2.size > 0:\n",
        "            self.q1.push(self.q2.pop())\n",
        "\n",
        "        return res\n",
        "\n",
        "    def top(self):\n",
        "        '''实际上就是将一个容器作为暂存容器'''\n",
        "\n",
        "        #当大于1时,将q1的元素pop进q2中\n",
        "        while self.q1.size() >1:\n",
        "            self.q2.push(self.q1.pop())\n",
        "        #将q1剩下的一个元素放进res,(先检查,再转移)\n",
        "        res = self.q1.pop()\n",
        "        #再放进q2\n",
        "        self.q2.push(res)\n",
        "        #将q2中的元素再放进q1\n",
        "        while self.q2.size > 0:\n",
        "            self.q1.push(self.q2.pop())\n",
        "\n",
        "        return res\n",
        "\n",
        "    def empty(self) -> bool:\n",
        "        return self.q1.empty() #看q1是否为空"
      ],
      "metadata": {
        "id": "jyZPUeZDuTHM"
      },
      "execution_count": null,
      "outputs": []
    },
    {
      "cell_type": "markdown",
      "source": [
        "### 5.2用栈实现队列"
      ],
      "metadata": {
        "id": "7bhRovi94xV5"
      }
    },
    {
      "cell_type": "markdown",
      "source": [
        "[力扣题目](https://leetcode.cn/problems/implement-queue-using-stacks/description/)"
      ],
      "metadata": {
        "id": "6Htzu18z5MCT"
      }
    },
    {
      "cell_type": "code",
      "source": [
        "class Stack:\n",
        "    def __init__(self):\n",
        "        self.data = []\n",
        "    def push(self,val):             #入栈\n",
        "        self.data.append(val)\n",
        "    def pop(self):                  #出栈\n",
        "        if self.empty():\n",
        "            return \"Stack is empty\"\n",
        "        return self.data.pop()\n",
        "    def top(self):                  #获取栈顶\n",
        "        if self.empty():\n",
        "            return \"Stack is empty\"\n",
        "        return self.data[-1]\n",
        "    def size(self):                  #栈大小\n",
        "        return len(self.data)\n",
        "    def empty(self):                #栈是否空\n",
        "        return len(self.data) == 0\n",
        "\n",
        "class Queue:\n",
        "    def __init__(self):\n",
        "        self.s1 = Stack()\n",
        "        self.s2 = Stack()\n",
        "    def push(self,val):\n",
        "        self.s1.push(val)\n",
        "    def pop(self):\n",
        "        '''\n",
        "        if not self.s2.empty():  #此方法不适用，会提前返回return \"stack is empty\"\n",
        "            self.s2.pop()\n",
        "        else:\n",
        "            while not self.s1.empty():\n",
        "                self.s2.push(self.s1.pop())\n",
        "        return self.s2.pop()\n",
        "        '''\n",
        "        if self.s2.empty():\n",
        "            while not self.s1.empty():\n",
        "                self.s2.push(self.s1.pop())\n",
        "        return self.s2.pop()\n",
        "    def front(self):\n",
        "        if self.s2.empty():\n",
        "            while not self.s1.empty():\n",
        "                self.s2.push(self.s1.pop())\n",
        "        return self.s2.top()\n",
        "    def empty(self):\n",
        "        return self.s1.empty() and self.s2.empty()\n"
      ],
      "metadata": {
        "id": "UcNSfc3d42X8"
      },
      "execution_count": 43,
      "outputs": []
    },
    {
      "cell_type": "code",
      "source": [
        "q = Queue()\n",
        "q.push(1)\n",
        "print(q.front())\n",
        "q.pop()"
      ],
      "metadata": {
        "colab": {
          "base_uri": "https://localhost:8080/"
        },
        "id": "_9Ytr4lnULGf",
        "outputId": "5d27274b-2762-47ca-c4c4-13076d7826f6"
      },
      "execution_count": 44,
      "outputs": [
        {
          "output_type": "stream",
          "name": "stdout",
          "text": [
            "1\n"
          ]
        },
        {
          "output_type": "execute_result",
          "data": {
            "text/plain": [
              "1"
            ]
          },
          "metadata": {},
          "execution_count": 44
        }
      ]
    },
    {
      "cell_type": "code",
      "source": [
        "q.push(2)\n",
        "print(q.front())"
      ],
      "metadata": {
        "colab": {
          "base_uri": "https://localhost:8080/"
        },
        "id": "xFk7_kd0VJQP",
        "outputId": "33233154-fa8b-45a4-fc96-9ef7e02f6f76"
      },
      "execution_count": 45,
      "outputs": [
        {
          "output_type": "stream",
          "name": "stdout",
          "text": [
            "2\n"
          ]
        }
      ]
    },
    {
      "cell_type": "code",
      "source": [
        "q.push(3)\n",
        "q.empty()"
      ],
      "metadata": {
        "colab": {
          "base_uri": "https://localhost:8080/"
        },
        "id": "Jdra0IJJVLB8",
        "outputId": "f191c339-48cb-43ee-d8c2-db444c4ece48"
      },
      "execution_count": 46,
      "outputs": [
        {
          "output_type": "execute_result",
          "data": {
            "text/plain": [
              "False"
            ]
          },
          "metadata": {},
          "execution_count": 46
        }
      ]
    },
    {
      "cell_type": "code",
      "source": [
        "q.push(4)\n",
        "print(q.front())"
      ],
      "metadata": {
        "colab": {
          "base_uri": "https://localhost:8080/"
        },
        "id": "oPx0z67YVLlc",
        "outputId": "40418cdc-24f5-46bf-9a6d-b071b68358c7"
      },
      "execution_count": 47,
      "outputs": [
        {
          "output_type": "stream",
          "name": "stdout",
          "text": [
            "2\n"
          ]
        }
      ]
    },
    {
      "cell_type": "markdown",
      "source": [
        "## 6.字符串"
      ],
      "metadata": {
        "id": "OZbHDCo9aneD"
      }
    },
    {
      "cell_type": "code",
      "source": [
        "# 创建\n",
        "s = ''"
      ],
      "metadata": {
        "trusted": true,
        "id": "wd0C5kbYaneD"
      },
      "outputs": [],
      "execution_count": null
    },
    {
      "cell_type": "code",
      "source": [
        "# 拼接\n",
        "s = s + 'hello'\n",
        "print(s)\n",
        "s += ' world'\n",
        "print(s)"
      ],
      "metadata": {
        "trusted": true,
        "id": "-XupPLPpaneD"
      },
      "outputs": [],
      "execution_count": null
    },
    {
      "cell_type": "code",
      "source": [
        "# 获取长度\n",
        "print(len(s))"
      ],
      "metadata": {
        "trusted": true,
        "id": "Gxs-25jbaneD"
      },
      "outputs": [],
      "execution_count": null
    },
    {
      "cell_type": "code",
      "source": [
        "# 查\n",
        "idx = s.find('world')\n",
        "print(idx)\n",
        "\n",
        "idx = s.find('World')\n",
        "print(idx)"
      ],
      "metadata": {
        "trusted": true,
        "id": "4rkPBsT0aneD"
      },
      "outputs": [],
      "execution_count": null
    },
    {
      "cell_type": "code",
      "source": [
        "# 索引\n",
        "print(s[3])"
      ],
      "metadata": {
        "trusted": true,
        "id": "cili44qcaneD"
      },
      "outputs": [],
      "execution_count": null
    },
    {
      "cell_type": "code",
      "source": [
        "# 切片\n",
        "print(s[3:5])\n",
        "print(s[:5])\n",
        "print(s[3:])\n",
        "print(s[:])\n",
        "print(s[:-1])"
      ],
      "metadata": {
        "trusted": true,
        "id": "UEOKJG0QaneD"
      },
      "outputs": [],
      "execution_count": null
    },
    {
      "cell_type": "code",
      "source": [
        "# 拷贝\n",
        "t = \"x\"\n",
        "s = t\n",
        "print(s)"
      ],
      "metadata": {
        "trusted": true,
        "id": "R0HUlUaTaneD"
      },
      "outputs": [],
      "execution_count": null
    },
    {
      "cell_type": "markdown",
      "source": [
        "[反转字符串](https://leetcode.cn/problems/reverse-string/description/)\n",
        "\n",
        "[字符串中的单词数](https://leetcode.cn/problems/number-of-segments-in-a-string/description/)\n",
        "\n",
        "[判断字符串的两半是否相似](https://leetcode.cn/problems/determine-if-string-halves-are-alike/)"
      ],
      "metadata": {
        "id": "Bau7W3kBsL6B"
      }
    }
  ]
}