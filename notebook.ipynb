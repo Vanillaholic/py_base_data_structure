{
  "metadata": {
    "kernelspec": {
      "name": "python",
      "display_name": "Python (Pyodide)",
      "language": "python"
    },
    "language_info": {
      "codemirror_mode": {
        "name": "python",
        "version": 3
      },
      "file_extension": ".py",
      "mimetype": "text/x-python",
      "name": "python",
      "nbconvert_exporter": "python",
      "pygments_lexer": "ipython3",
      "version": "3.8"
    },
    "colab": {
      "provenance": [],
      "toc_visible": true,
      "include_colab_link": true
    }
  },
  "nbformat_minor": 0,
  "nbformat": 4,
  "cells": [
    {
      "cell_type": "markdown",
      "metadata": {
        "id": "view-in-github",
        "colab_type": "text"
      },
      "source": [
        "<a href=\"https://colab.research.google.com/github/Yakitoriholic/py_base_data_structure/blob/main/notebook.ipynb\" target=\"_parent\"><img src=\"https://colab.research.google.com/assets/colab-badge.svg\" alt=\"Open In Colab\"/></a>"
      ]
    },
    {
      "cell_type": "markdown",
      "source": [
        "# 数据结构基础"
      ],
      "metadata": {
        "id": "U9II097NsR9W"
      }
    },
    {
      "cell_type": "markdown",
      "source": [
        "## 1.顺序表"
      ],
      "metadata": {
        "id": "zWlydZWFand_"
      }
    },
    {
      "cell_type": "code",
      "source": [
        "\n",
        "class SequentialList:\n",
        "    def __init__(self):\n",
        "        self.capacity = 10\n",
        "        self.size = 0\n",
        "        self.elements = [0] * self.capacity\n",
        "\n",
        "    def __del__(self):\n",
        "\n",
        "        del self.elements\n",
        "\n",
        "    def size(self):\n",
        "\n",
        "        return self.size\n",
        "\n",
        "    def is_empty(self):\n",
        "\n",
        "        return self.size == 0\n",
        "\n",
        "    def insert(self, index, element):\n",
        "\n",
        "        if index < 0 or index > self.size:\n",
        "            raise ValueError(\"Invalid index\")\n",
        "        if self.size == self.capacity:\n",
        "            self.resize()\n",
        "        for i in range(self.size, index, -1):\n",
        "            self.elements[i] = self.elements[i - 1]\n",
        "        self.elements[index] = element\n",
        "        self.size += 1\n",
        "\n",
        "    def remove(self, index):\n",
        "\n",
        "        if index < 0 or index >= self.size:\n",
        "            raise ValueError(\"Invalid index\")\n",
        "        self.elements[index] = 0\n",
        "        for i in range(index + 1, self.size):\n",
        "            self.elements[i - 1] = self.elements[i]\n",
        "        self.size -= 1\n",
        "\n",
        "    def get(self, index):\n",
        "\n",
        "        if index < 0 or index >= self.size:\n",
        "            raise ValueError(\"Invalid index\")\n",
        "        return self.elements[index]\n",
        "\n",
        "    def set(self, index, element):\n",
        "\n",
        "        if index < 0 or index >= self.size:\n",
        "            raise ValueError(\"Invalid index\")\n",
        "        self.elements[index] = element\n",
        "\n",
        "    def find(self, element):\n",
        "\n",
        "        for i in range(self.size):\n",
        "            if self.elements[i] == element:\n",
        "                return i\n",
        "        return -1\n",
        "\n",
        "    def resize(self):\n",
        "\n",
        "        new_capacity = self.capacity * 2\n",
        "        new_elements = [0] * new_capacity\n",
        "        for i in range(self.size):\n",
        "            new_elements[i] = self.elements[i]\n",
        "        self.capacity = new_capacity\n",
        "        self.elements = new_elements\n",
        "\n",
        "    def __iter__(self):\n",
        "\n",
        "        for i in range(self.size):\n",
        "            yield self.elements[i]\n",
        "\n",
        "    def __str__(self):\n",
        "\n",
        "        return \"Sequential List: \" + str(self.elements[:self.size])\n"
      ],
      "metadata": {
        "trusted": true,
        "id": "ZwdineFsaneA"
      },
      "outputs": [],
      "execution_count": null
    },
    {
      "cell_type": "markdown",
      "source": [
        "此外直接使用python中的列表\n",
        "\n",
        "习题：\n",
        "\n",
        "*   [值相等的最小索引](https://leetcode.cn/problems/smallest-index-with-equal-value/description/) ✔\n",
        "*   [数组中两元素的最大乘积](https://leetcode.cn/problems/maximum-product-of-two-elements-in-an-array/description/)✔记得复习\n",
        "*   [移除元素](https://leetcode.cn/problems/remove-element/description/)✔双指针\n"
      ],
      "metadata": {
        "id": "wZkaMpKSaneB"
      }
    },
    {
      "cell_type": "markdown",
      "source": [
        "## 2.单向链表"
      ],
      "metadata": {
        "id": "bOfPzDOGaneB"
      }
    },
    {
      "cell_type": "markdown",
      "source": [
        "[节点的插入](https://article-images.zsxq.com/Fpp_XSGo1wN5ieDfQn7YwxOT-Gj9)\n",
        "\n",
        "[节点的删除](https://article-images.zsxq.com/FiWhweABsj6POxAQxsK7hMujSmmS)\n",
        "\n",
        "[元素的查找](https://article-images.zsxq.com/FnT2SzXI0mSCEj4_BQgbvcFxT8iI)\n",
        "\n",
        "[元素的索引](https://article-images.zsxq.com/FnT2SzXI0mSCEj4_BQgbvcFxT8iI)\n",
        "\n",
        "[元素的修改](https://article-images.zsxq.com/FnT2SzXI0mSCEj4_BQgbvcFxT8iI)"
      ],
      "metadata": {
        "id": "PlWdcU9EopmZ"
      }
    },
    {
      "cell_type": "code",
      "source": [
        "class ListNode:  #python中没有指针，先定义一个节点\n",
        "    def __init__(self,x):\n",
        "        self.val = x      #数据域\n",
        "        self.next = None  #指针域\n",
        "\n",
        "class LinkedList:\n",
        "    def __init__(self):\n",
        "        # 初始化链表，将链表头指针设为None，表示链表初始为空\n",
        "        self.head = None\n",
        "        # 初始化链表长度为0，用于记录链表中节点的个数\n",
        "        self.len = 0\n",
        "\n",
        "    def size(self):\n",
        "        # 返回链表当前的长度，外部代码可以通过调用此方法获取链表节点数量\n",
        "        return self.len\n",
        "\n",
        "    def insert(self, pos, val):\n",
        "        # 检查传入的插入位置pos是否有效\n",
        "        # 如果pos小于0或者大于链表当前长度self.len，则抛出ValueError异常表示位置无效\n",
        "        if pos < 0 or pos > self.len:\n",
        "            raise ValueError(\"无效的位置\")\n",
        "        # 创建一个新的节点，其值为传入的val，这里假设ListNode是一个已经定义好的表示链表节点的类\n",
        "        newNode = ListNode(val)\n",
        "        if pos == 0:\n",
        "            # 如果插入位置是0，也就是在链表头部插入节点\n",
        "            # 先让新节点的next指针指向当前的头节点（self.head）\n",
        "            newNode.next = self.head\n",
        "            # 再更新链表的头指针self.head为新节点，使新节点成为链表的新头部\n",
        "            self.head = newNode\n",
        "        else:\n",
        "       # 如果插入位置大于0，说明要在链表中间或者尾部插入节点。\n",
        "        # 首先，我们需要找到要插入位置的前一个节点，用 prev 指针来指向它。\n",
        "        # 先将 prev 指针初始化为链表的头节点 self.head，因为我们要从链表头开始遍历查找。\n",
        "            prev = self.head\n",
        "        # 通过以下循环，从链表头开始，让 prev 指针逐步向后移动，每次移动到下一个节点，\n",
        "        # 循环次数为 pos - 1 次，这样就能保证循环结束后，prev 指针正好指向要插入位置的前一个节点。\n",
        "        # 例如，要在位置 3 插入节点（pos = 3），那我们需要从链表头开始移动 2 次（pos - 1 = 2），\n",
        "        # 使得 prev 指针停留在第 2 个节点处，该节点就是要插入位置（第 3 个位置）的前一个节点。\n",
        "            for _ in range(pos - 1):\n",
        "                prev = prev.next\n",
        "        # 找到要插入位置的前一个节点（prev 所指向的节点）后，接下来要进行插入操作。\n",
        "        # 先将新节点（newNode）的 next 指针指向 prev 节点的下一个节点（prev.next），\n",
        "        # 这一步操作相当于把新节点“接入”到链表中，让它指向原来在插入位置上的那个节点，\n",
        "        # 保证链表在插入新节点后节点之间的连接依然正确。\n",
        "            newNode.next = prev.next\n",
        "        # 然后，再将 prev 节点的 next 指针指向新节点，这样就完成了新节点在指定位置的插入。\n",
        "        # 此时，prev 节点原本指向的下一个节点变成了新节点的后继节点，新节点成功插入到了链表中指定的位置。\n",
        "            prev.next = newNode\n",
        "\n",
        "        self.len += 1\n",
        "\n",
        "    def delete(self, pos):\n",
        "        if pos < 0 or pos >= self.len:\n",
        "            raise ValueError(\"无效的位置\")\n",
        "        if pos == 0:\n",
        "            self.head = self.head.next\n",
        "        else:\n",
        "            prev = self.head\n",
        "            for _ in range(pos - 1):\n",
        "                prev = prev.next\n",
        "            prev.next = prev.next.next\n",
        "        self.len -= 1\n",
        "\n",
        "    def update(self, pos, val):\n",
        "        if pos < 0 or pos >= self.len:\n",
        "            raise ValueError(\"无效的位置\")\n",
        "        if pos == 0:\n",
        "            self.head.val = val\n",
        "        else:\n",
        "            current = self.head\n",
        "            for _ in range(pos):\n",
        "                current = current.next\n",
        "            current.val = val\n",
        "\n",
        "    def search(self, val):\n",
        "        current = self.head\n",
        "        while current:\n",
        "            if current.val == val:\n",
        "                return current\n",
        "            current = current.next\n",
        "        return None\n",
        "\n",
        "    def index(self, val):\n",
        "        index = 0\n",
        "        current = self.head\n",
        "        while current:\n",
        "            if current.val == val:\n",
        "                return index\n",
        "            index += 1\n",
        "            current = current.next\n",
        "        return -1\n",
        "\n",
        "    def print(self):\n",
        "        current = self.head\n",
        "        while current:\n",
        "            print(current.val, end='->')\n",
        "            current = current.next\n",
        "        print('None')"
      ],
      "metadata": {
        "trusted": true,
        "id": "73cA_ophaneB"
      },
      "outputs": [],
      "execution_count": null
    },
    {
      "cell_type": "code",
      "source": [
        "class ListNode:\n",
        "  def __init__(self,val):\n",
        "    self.next = None\n",
        "    self.val = val\n",
        "\n",
        "class MyLinkedList:\n",
        "  def __init__(self):\n",
        "    self.len = 0\n",
        "    self.head = None\n",
        "\n",
        "  def insert(self,pos,val):#插入节点\n",
        "    if pos<0 or pos >self.len:\n",
        "      raise ValueError(\"Invalid Position!\")\n",
        "    newNode = ListNode(val)\n",
        "    if pos == 0:\n",
        "      newNode.next = self.head\n",
        "      self.head = newNode\n",
        "    else:\n",
        "      prev = self.head\n",
        "      for _ in range(pos - 1):\n",
        "          prev = prev.next\n",
        "      newNode.next = prev.next\n",
        "      prev.next = newNode\n",
        "    self.len += 1\n",
        "\n",
        "  def delete(self,pos):#对于链表，要访问当前节点，最好遍历到之前的节点\n",
        "    if self.len == 0:\n",
        "      raise ValueError(\"List is empty\")\n",
        "    if pos<0 or pos >self.len:\n",
        "      raise ValueError(\"Invalid Position!\")\n",
        "    if pos == 0:\n",
        "      self.head = self.head.next\n",
        "    else:\n",
        "      prev = self.head\n",
        "      for _ in range(pos -1):\n",
        "        prev = prev.next\n",
        "      prev.next = prev.next.next\n",
        "\n",
        "    self.len -= 1\n",
        "  def update(self,pos,val):#更新节点的值\n",
        "      if pos<0 or pos >self.len:\n",
        "        raise ValueError(\"Invalid Position!\")\n",
        "      if self.len == 0:\n",
        "        raise ValueError(\"List is empty\")\n",
        "      current = self.head\n",
        "      for _ in range(pos):\n",
        "        current = current.next\n",
        "      current.val = val\n",
        "  # def update(self,pos,val):\n",
        "  #   if pos<0 or pos >self.len:\n",
        "  #     raise ValueError(\"Invalid Position!\")\n",
        "  #   if self.len == 0:\n",
        "  #     raise ValueError(\"List is empty\")\n",
        "  #   newNode = ListNode(val)\n",
        "  #   if pos == 0:\n",
        "  #     self.head.next = newNode.next\n",
        "  #     self.head = newNode\n",
        "  #   else:\n",
        "  #     prev = self.head\n",
        "  #     for _ in range(self.len):\n",
        "  #       prev = prev.next\n",
        "  #     prev.next.next = newNode.next\n",
        "  #     prev.next = newNode\n",
        "  def search(self,val):\n",
        "      current = self.head\n",
        "      while current:#如果current非空\n",
        "        if current.val == val:\n",
        "          return current\n",
        "        current = current.next#一直遍历下去\n",
        "      return None\n",
        "  def index(self,val):\n",
        "      idx = 0\n",
        "      current = self.head\n",
        "      while current:\n",
        "        if current.val == val:\n",
        "          return  idx\n",
        "        else:\n",
        "          idx += 1\n",
        "          current = current.next\n",
        "      return -1\n",
        "  def print(self):\n",
        "      current = self.head\n",
        "      while current:\n",
        "        print(current.val,end ='->')\n",
        "        current = current.next\n",
        "      print('None')"
      ],
      "metadata": {
        "id": "S9bdOtvgEtl9"
      },
      "execution_count": null,
      "outputs": []
    },
    {
      "cell_type": "code",
      "source": [
        "l=MyLinkedList()\n",
        "l.insert(0,2)\n",
        "l.insert(1,1)\n",
        "l.insert(2,4)\n",
        "l.print()"
      ],
      "metadata": {
        "trusted": true,
        "id": "DlzlqgXRaneB",
        "colab": {
          "base_uri": "https://localhost:8080/"
        },
        "outputId": "c605ef7d-b723-4b47-da00-2d83c915ca9f"
      },
      "outputs": [
        {
          "output_type": "stream",
          "name": "stdout",
          "text": [
            "2->1->4->None\n"
          ]
        }
      ],
      "execution_count": null
    },
    {
      "cell_type": "code",
      "source": [
        "l.index(1),l.index(2)\n",
        "l.insert(1,45)\n",
        "l.print()"
      ],
      "metadata": {
        "colab": {
          "base_uri": "https://localhost:8080/"
        },
        "id": "GuRPvJ8Orglr",
        "outputId": "5d823758-30f9-4c92-93f8-0cce0b47d21a"
      },
      "execution_count": null,
      "outputs": [
        {
          "output_type": "stream",
          "name": "stdout",
          "text": [
            "2->45->1->4->None\n"
          ]
        }
      ]
    },
    {
      "cell_type": "markdown",
      "source": [
        "[返回倒数第k个节点](https://leetcode.cn/problems/kth-node-from-end-of-list-lcci/description/)✔\n",
        "\n",
        "[删除排序链表中的重复元素](https://leetcode.cn/problems/remove-duplicates-from-sorted-list/)×复习\n",
        "\n",
        "[移除重复节点](https://leetcode.cn/problems/remove-duplicate-node-lcci/description/)"
      ],
      "metadata": {
        "id": "PrmaLSjwm2yF"
      }
    },
    {
      "cell_type": "markdown",
      "source": [
        "## 3.栈"
      ],
      "metadata": {
        "id": "MPog9YPtaneB"
      }
    },
    {
      "cell_type": "markdown",
      "source": [
        "[入栈图解](https://article-images.zsxq.com/Fjbe5Nt2AoMC1016p6k0CLf3Ubhy)\n",
        "\n",
        "[出栈图解](https://article-images.zsxq.com/Fi2AEjNGzWmiaiiq_wjLFqtsQYKl)\n",
        "\n",
        "栈通常用于实现函数调用、递归、表达式求值等操作\n",
        "\n",
        "顺序表实现"
      ],
      "metadata": {
        "id": "7_8ZZTjsoRwS"
      }
    },
    {
      "cell_type": "markdown",
      "source": [],
      "metadata": {
        "id": "2yrJFZJcoNBS"
      }
    },
    {
      "cell_type": "code",
      "source": [
        "class Stack:\n",
        "    def __init__(self):\n",
        "        self.data = []\n",
        "    def push(self,val):             #入栈\n",
        "        self.data.append(val)\n",
        "    def pop(self):                  #出栈\n",
        "        if self.empty():\n",
        "            return \"Stack is empty\"\n",
        "        return self.data.pop()\n",
        "    def top(self):                  #获取栈顶\n",
        "        if self.empty():\n",
        "            return \"Stack is empty\"\n",
        "        return self.data[-1]\n",
        "    def size(self):                  #栈大小\n",
        "        return len(self.data)\n",
        "    def empty(self):                #栈是否空\n",
        "        return len(self.data) == 0"
      ],
      "metadata": {
        "trusted": true,
        "id": "pM_VHrEvaneC"
      },
      "outputs": [],
      "execution_count": null
    },
    {
      "cell_type": "code",
      "source": [
        "stk = Stack()\n",
        "stk.push(1)\n",
        "stk.push(2)\n",
        "stk.push(6)\n",
        "stk.push(5)"
      ],
      "metadata": {
        "trusted": true,
        "id": "7WLLhIECaneC"
      },
      "outputs": [],
      "execution_count": null
    },
    {
      "cell_type": "code",
      "source": [
        "print(stk.top())"
      ],
      "metadata": {
        "trusted": true,
        "id": "CKQQ-lKsaneC"
      },
      "outputs": [],
      "execution_count": null
    },
    {
      "cell_type": "code",
      "source": [
        "while not stk.empty():\n",
        "    stk.pop()\n",
        "stk.empty()"
      ],
      "metadata": {
        "trusted": true,
        "id": "-0Bm_so-aneC"
      },
      "outputs": [],
      "execution_count": null
    },
    {
      "cell_type": "code",
      "source": [
        "class MyStack:\n",
        "    def __init__(self):\n",
        "        self.data = []\n",
        "    def push(self,val):\n",
        "        self.data.append(val)\n",
        "    def pop(self):\n",
        "        if self.empty():\n",
        "            return \"stack is empty\"\n",
        "        return self.data.pop()\n",
        "    def top(self):\n",
        "        if self.empty():\n",
        "            return \"stack is empty\"\n",
        "        return self.data[-1]\n",
        "    def size(self):\n",
        "        return len(self.data)\n",
        "    def empty(self):\n",
        "        return len(self.data) == 0"
      ],
      "metadata": {
        "trusted": true,
        "id": "JDjHNxN4aneC"
      },
      "outputs": [],
      "execution_count": null
    },
    {
      "cell_type": "markdown",
      "source": [
        "实际上，列表就可以当作栈来使用\n",
        "\n",
        "入栈:`append`\n",
        "\n",
        "栈顶：`data[-1]`\n",
        "\n",
        "出栈:`pop()`\n",
        "\n",
        "[图书整理](https://leetcode.cn/problems/cong-wei-dao-tou-da-yin-lian-biao-lcof/description/)\n",
        "\n",
        "[回文链表](https://leetcode.cn/problems/aMhZSa/description/)\n",
        "\n",
        "[括号的最大嵌套深度](https://leetcode.cn/problems/maximum-nesting-depth-of-the-parentheses/description/)"
      ],
      "metadata": {
        "id": "6KXjRu1VaneC"
      }
    },
    {
      "cell_type": "markdown",
      "source": [
        "## 4.队列"
      ],
      "metadata": {
        "id": "wK_m5gXoaneC"
      }
    },
    {
      "cell_type": "markdown",
      "source": [
        "[入队](https://article-images.zsxq.com/Fh7NPl-QlvFnybLJ7ue5kLxK4vj-)\n",
        "\n",
        "[出队](https://article-images.zsxq.com/Fl6ZPy9UNzXQRedoRdQfJD5eksGb)\n",
        "\n",
        "[获取队首](https://article-images.zsxq.com/FuaHin96puVBMlbrGSMMG1KUajkE)"
      ],
      "metadata": {
        "id": "qAhT6TDiqj-W"
      }
    },
    {
      "cell_type": "code",
      "source": [
        "class Queue:\n",
        "    def __init__(self):\n",
        "        self.data = []\n",
        "        self.head = 0        #头指针为0\n",
        "        self.tail = 0        #尾指针为0\n",
        "    def push(self,val):\n",
        "        self.data.append(val)\n",
        "        self.tail += 1\n",
        "    def pop(self):            #删除\n",
        "        if self.empty():\n",
        "            raise \"Queue is empty\"\n",
        "        val = self.data[self.head]\n",
        "        self.head += 1\n",
        "        return val  ###################\n",
        "\n",
        "    def front(self):\n",
        "        if self.empty():\n",
        "            raise \"Queue is empty\"\n",
        "        val = self.data[self.head]\n",
        "        return val\n",
        "\n",
        "    def size(self):\n",
        "        return self.tail - self.head\n",
        "\n",
        "    def empty(self):\n",
        "        return self.head == self.tail\n",
        "\n",
        "    def print(self):\n",
        "        for i in range(self.size()):\n",
        "            print(self.data[self.head+i],end ='-')\n",
        "        print('None')\n"
      ],
      "metadata": {
        "trusted": true,
        "id": "h5a9rCKeaneC"
      },
      "outputs": [],
      "execution_count": null
    },
    {
      "cell_type": "code",
      "source": [
        "q = Queue()\n",
        "q.push(1)\n",
        "q.push(2)\n",
        "q.push(3)"
      ],
      "metadata": {
        "trusted": true,
        "id": "mbJ-HwoManeC"
      },
      "outputs": [],
      "execution_count": null
    },
    {
      "cell_type": "code",
      "source": [
        "q.print(),q.size()"
      ],
      "metadata": {
        "colab": {
          "base_uri": "https://localhost:8080/"
        },
        "id": "3eWap7dE3wTU",
        "outputId": "e0b8571e-1be5-4163-8bea-a1d9a469da42"
      },
      "execution_count": null,
      "outputs": [
        {
          "output_type": "stream",
          "name": "stdout",
          "text": [
            "1-2-3-None\n"
          ]
        },
        {
          "output_type": "execute_result",
          "data": {
            "text/plain": [
              "(None, 3)"
            ]
          },
          "metadata": {},
          "execution_count": 105
        }
      ]
    },
    {
      "cell_type": "code",
      "source": [
        "while not q.empty():\n",
        "    print(q.front())\n",
        "    q.pop()"
      ],
      "metadata": {
        "trusted": true,
        "id": "-HlYNQiOaneC",
        "colab": {
          "base_uri": "https://localhost:8080/"
        },
        "outputId": "e21abe20-9eb5-48d1-a23d-46ee9e6bf3ed"
      },
      "outputs": [
        {
          "output_type": "stream",
          "name": "stdout",
          "text": [
            "1\n",
            "2\n",
            "3\n"
          ]
        }
      ],
      "execution_count": null
    },
    {
      "cell_type": "code",
      "source": [
        "q.empty()"
      ],
      "metadata": {
        "trusted": true,
        "id": "BMKjtVgZaneC",
        "colab": {
          "base_uri": "https://localhost:8080/"
        },
        "outputId": "4af1c406-fcd5-44a0-ea59-3acfc8ae71ba"
      },
      "outputs": [
        {
          "output_type": "execute_result",
          "data": {
            "text/plain": [
              "False"
            ]
          },
          "metadata": {},
          "execution_count": 97
        }
      ],
      "execution_count": null
    },
    {
      "cell_type": "code",
      "source": [
        "q.push(5)\n",
        "print(q.front())"
      ],
      "metadata": {
        "trusted": true,
        "id": "Wdke5es6aneD",
        "colab": {
          "base_uri": "https://localhost:8080/"
        },
        "outputId": "04c0afec-1909-4afb-9d58-4e3061dbe687"
      },
      "outputs": [
        {
          "output_type": "stream",
          "name": "stdout",
          "text": [
            "5\n"
          ]
        }
      ],
      "execution_count": null
    },
    {
      "cell_type": "code",
      "source": [
        "q.size()"
      ],
      "metadata": {
        "colab": {
          "base_uri": "https://localhost:8080/"
        },
        "id": "Z_nhiHxBwL4u",
        "outputId": "48bc1431-bacb-45d8-9513-089bdb09e731"
      },
      "execution_count": null,
      "outputs": [
        {
          "output_type": "execute_result",
          "data": {
            "text/plain": [
              "3"
            ]
          },
          "metadata": {},
          "execution_count": 99
        }
      ]
    },
    {
      "cell_type": "markdown",
      "source": [
        "[最近的请求次数](https://leetcode.cn/problems/number-of-recent-calls/description/)\n",
        "\n",
        "[数据流中的移动平均值](https://leetcode.cn/problems/qIsx9U/description/)"
      ],
      "metadata": {
        "id": "uifc_JSLn9_M"
      }
    },
    {
      "cell_type": "markdown",
      "source": [
        "## 5.栈&队列"
      ],
      "metadata": {
        "id": "Ku3Lfg37a5mK"
      }
    },
    {
      "cell_type": "markdown",
      "source": [
        "### 5.1用队列实现栈\n"
      ],
      "metadata": {
        "id": "G713SrdWuLV4"
      }
    },
    {
      "cell_type": "markdown",
      "source": [
        "[力扣题目](https://leetcode.cn/problems/implement-stack-using-queues/submissions/586560120/)\n",
        "\n",
        "底层数据结构为队列,要满足这个需求,必须要用到两个队列,一个是**主队列q1**,一个是**辅助队列q2**\n",
        "\n",
        "***注意:辅助队列每次操作完毕一定会变成空的***\n",
        "\n",
        "入栈操作:将元素在q1中入队\n",
        "\n",
        "出栈操作:\n",
        "\n",
        "1.如果q1没有元素,那么这个操作非法\n",
        "\n",
        "2.判断q1的元素个数是否大于1,如果大于1,则将q1的元素全部按照顺序在q2入队\n",
        "\n",
        "3.获取q1的队首元素,保存起来用于最后返回;并将q1执行出队操作;\n",
        "\n",
        "4.将q2的元素全部按照顺序在q1入队\n",
        "\n",
        "5.返回第三部中保存起来的q1队首元素\n",
        "\n",
        "获取栈顶元素:\n",
        "\n",
        "1.如果q1没有元素,那么这个操作非法\n",
        "\n",
        "2.判断q1的元素个数是否大于1,如果大于1,则将q1的元素全部按照顺序在q2入队\n",
        "\n",
        "3.获取q1的队首元素,保存起来用于最后返回;并将q1执行出队操作;**并且将这个元素在q2入对**\n",
        "\n",
        "栈是否为空:\n",
        "\n",
        "q1如果空,则栈空\n",
        "\n",
        "4.将q2的元素全部按照顺序在q1入队\n",
        "\n",
        "5.返回第三部中保存起来的q1队首元素"
      ],
      "metadata": {
        "id": "MkNMYHMz4RMy"
      }
    },
    {
      "cell_type": "code",
      "source": [
        "'''实现队列'''\n",
        "class Queue:\n",
        "    def __init__(self):\n",
        "        self.data = []\n",
        "        self.head = 0        #头指针为0\n",
        "        self.tail = 0        #尾指针为0\n",
        "    def push(self,val):\n",
        "        self.data.append(val)\n",
        "        self.tail += 1\n",
        "    def pop(self):            #删除\n",
        "        if self.empty():\n",
        "            raise \"Queue is empty\"\n",
        "        val = self.data[self.head]\n",
        "        self.head += 1\n",
        "        return val  ###################\n",
        "\n",
        "    def front(self):\n",
        "        if self.empty():\n",
        "            raise \"Queue is empty\"\n",
        "        val = self.data[self.head]\n",
        "        return val\n",
        "\n",
        "    def size(self):\n",
        "        return self.tail - self.head\n",
        "\n",
        "    def empty(self):\n",
        "        return self.head == self.tail\n",
        "\n",
        "\n",
        "class MyStack:\n",
        "    def __init__(self):\n",
        "        self.q1 = Queue()\n",
        "        self.q2 = Queue()\n",
        "    def push(self,val) -> None:\n",
        "        self.q1.push(val)\n",
        "\n",
        "    def pop(self):\n",
        "        '''实际上就是将一个容器作为暂存容器'''\n",
        "\n",
        "        #当大于1时,将q1的元素pop进q2中\n",
        "        while self.q1.size() >1:\n",
        "            self.q2.push(self.q1.pop())\n",
        "        #将q1剩下的一个元素放进res\n",
        "        res = self.q1.pop()\n",
        "        #将q2中的元素再放进q1\n",
        "        while self.q2.size > 0:\n",
        "            self.q1.push(self.q2.pop())\n",
        "\n",
        "        return res\n",
        "\n",
        "    def top(self):\n",
        "        '''实际上就是将一个容器作为暂存容器'''\n",
        "\n",
        "        #当大于1时,将q1的元素pop进q2中\n",
        "        while self.q1.size() >1:\n",
        "            self.q2.push(self.q1.pop())\n",
        "        #将q1剩下的一个元素放进res,(先检查,再转移)\n",
        "        res = self.q1.pop()\n",
        "        #再放进q2\n",
        "        self.q2.push(res)\n",
        "        #将q2中的元素再放进q1\n",
        "        while self.q2.size > 0:\n",
        "            self.q1.push(self.q2.pop())\n",
        "\n",
        "        return res\n",
        "\n",
        "    def empty(self) -> bool:\n",
        "        return self.q1.empty() #看q1是否为空"
      ],
      "metadata": {
        "id": "jyZPUeZDuTHM"
      },
      "execution_count": null,
      "outputs": []
    },
    {
      "cell_type": "markdown",
      "source": [
        "### 5.2用栈实现队列"
      ],
      "metadata": {
        "id": "7bhRovi94xV5"
      }
    },
    {
      "cell_type": "markdown",
      "source": [
        "[力扣题目](https://leetcode.cn/problems/implement-queue-using-stacks/description/)"
      ],
      "metadata": {
        "id": "6Htzu18z5MCT"
      }
    },
    {
      "cell_type": "code",
      "source": [
        "class Stack:\n",
        "    def __init__(self):\n",
        "        self.data = []\n",
        "    def push(self,val):             #入栈\n",
        "        self.data.append(val)\n",
        "    def pop(self):                  #出栈\n",
        "        if self.empty():\n",
        "            return \"Stack is empty\"\n",
        "        return self.data.pop()\n",
        "    def top(self):                  #获取栈顶\n",
        "        if self.empty():\n",
        "            return \"Stack is empty\"\n",
        "        return self.data[-1]\n",
        "    def size(self):                  #栈大小\n",
        "        return len(self.data)\n",
        "    def empty(self):                #栈是否空\n",
        "        return len(self.data) == 0\n",
        "\n",
        "class Queue:\n",
        "    def __init__(self):\n",
        "        self.s1 = Stack()\n",
        "        self.s2 = Stack()\n",
        "    def push(self,val):\n",
        "        self.s1.push(val)\n",
        "    def pop(self):\n",
        "        '''\n",
        "        if not self.s2.empty():  #此方法不适用，会提前返回return \"stack is empty\"\n",
        "            self.s2.pop()\n",
        "        else:\n",
        "            while not self.s1.empty():\n",
        "                self.s2.push(self.s1.pop())\n",
        "        return self.s2.pop()\n",
        "        '''\n",
        "        if self.s2.empty():\n",
        "            while not self.s1.empty():\n",
        "                self.s2.push(self.s1.pop())\n",
        "        return self.s2.pop()\n",
        "    def front(self):\n",
        "        if self.s2.empty():\n",
        "            while not self.s1.empty():\n",
        "                self.s2.push(self.s1.pop())\n",
        "        return self.s2.top()\n",
        "    def empty(self):\n",
        "        return self.s1.empty() and self.s2.empty()\n"
      ],
      "metadata": {
        "id": "UcNSfc3d42X8"
      },
      "execution_count": null,
      "outputs": []
    },
    {
      "cell_type": "code",
      "source": [
        "q = Queue()\n",
        "q.push(1)\n",
        "print(q.front())\n",
        "q.pop()"
      ],
      "metadata": {
        "colab": {
          "base_uri": "https://localhost:8080/"
        },
        "id": "_9Ytr4lnULGf",
        "outputId": "5d27274b-2762-47ca-c4c4-13076d7826f6"
      },
      "execution_count": null,
      "outputs": [
        {
          "output_type": "stream",
          "name": "stdout",
          "text": [
            "1\n"
          ]
        },
        {
          "output_type": "execute_result",
          "data": {
            "text/plain": [
              "1"
            ]
          },
          "metadata": {},
          "execution_count": 44
        }
      ]
    },
    {
      "cell_type": "code",
      "source": [
        "q.push(2)\n",
        "print(q.front())"
      ],
      "metadata": {
        "colab": {
          "base_uri": "https://localhost:8080/"
        },
        "id": "xFk7_kd0VJQP",
        "outputId": "33233154-fa8b-45a4-fc96-9ef7e02f6f76"
      },
      "execution_count": null,
      "outputs": [
        {
          "output_type": "stream",
          "name": "stdout",
          "text": [
            "2\n"
          ]
        }
      ]
    },
    {
      "cell_type": "code",
      "source": [
        "q.push(3)\n",
        "q.empty()"
      ],
      "metadata": {
        "colab": {
          "base_uri": "https://localhost:8080/"
        },
        "id": "Jdra0IJJVLB8",
        "outputId": "f191c339-48cb-43ee-d8c2-db444c4ece48"
      },
      "execution_count": null,
      "outputs": [
        {
          "output_type": "execute_result",
          "data": {
            "text/plain": [
              "False"
            ]
          },
          "metadata": {},
          "execution_count": 46
        }
      ]
    },
    {
      "cell_type": "code",
      "source": [
        "q.push(4)\n",
        "print(q.front())"
      ],
      "metadata": {
        "colab": {
          "base_uri": "https://localhost:8080/"
        },
        "id": "oPx0z67YVLlc",
        "outputId": "40418cdc-24f5-46bf-9a6d-b071b68358c7"
      },
      "execution_count": null,
      "outputs": [
        {
          "output_type": "stream",
          "name": "stdout",
          "text": [
            "2\n"
          ]
        }
      ]
    },
    {
      "cell_type": "markdown",
      "source": [
        "## 6.字符串"
      ],
      "metadata": {
        "id": "OZbHDCo9aneD"
      }
    },
    {
      "cell_type": "code",
      "source": [
        "# 创建\n",
        "s = ''"
      ],
      "metadata": {
        "trusted": true,
        "id": "wd0C5kbYaneD"
      },
      "outputs": [],
      "execution_count": null
    },
    {
      "cell_type": "code",
      "source": [
        "# 拼接\n",
        "s = s + 'hello'\n",
        "print(s)\n",
        "s += ' world'\n",
        "print(s)"
      ],
      "metadata": {
        "trusted": true,
        "id": "-XupPLPpaneD"
      },
      "outputs": [],
      "execution_count": null
    },
    {
      "cell_type": "code",
      "source": [
        "# 获取长度\n",
        "print(len(s))"
      ],
      "metadata": {
        "trusted": true,
        "id": "Gxs-25jbaneD"
      },
      "outputs": [],
      "execution_count": null
    },
    {
      "cell_type": "code",
      "source": [
        "# 查\n",
        "idx = s.find('world')\n",
        "print(idx)\n",
        "\n",
        "idx = s.find('World')\n",
        "print(idx)"
      ],
      "metadata": {
        "trusted": true,
        "id": "4rkPBsT0aneD"
      },
      "outputs": [],
      "execution_count": null
    },
    {
      "cell_type": "code",
      "source": [
        "# 索引\n",
        "print(s[3])"
      ],
      "metadata": {
        "trusted": true,
        "id": "cili44qcaneD"
      },
      "outputs": [],
      "execution_count": null
    },
    {
      "cell_type": "code",
      "source": [
        "# 切片\n",
        "print(s[3:5])\n",
        "print(s[:5])\n",
        "print(s[3:])\n",
        "print(s[:])\n",
        "print(s[:-1])"
      ],
      "metadata": {
        "trusted": true,
        "id": "UEOKJG0QaneD"
      },
      "outputs": [],
      "execution_count": null
    },
    {
      "cell_type": "code",
      "source": [
        "# 拷贝\n",
        "t = \"x\"\n",
        "s = t\n",
        "print(s)"
      ],
      "metadata": {
        "trusted": true,
        "id": "R0HUlUaTaneD"
      },
      "outputs": [],
      "execution_count": null
    },
    {
      "cell_type": "markdown",
      "source": [
        "[反转字符串](https://leetcode.cn/problems/reverse-string/description/)\n",
        "\n",
        "[字符串中的单词数](https://leetcode.cn/problems/number-of-segments-in-a-string/description/)\n",
        "\n",
        "[判断字符串的两半是否相似](https://leetcode.cn/problems/determine-if-string-halves-are-alike/)"
      ],
      "metadata": {
        "id": "Bau7W3kBsL6B"
      }
    },
    {
      "cell_type": "markdown",
      "source": [
        "## 7.树"
      ],
      "metadata": {
        "id": "miEybLdGD8Ro"
      }
    },
    {
      "cell_type": "markdown",
      "source": [
        "![image.png](data:image/png;base64,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)"
      ],
      "metadata": {
        "id": "R0Kr-6_SW8al"
      }
    },
    {
      "cell_type": "code",
      "source": [
        "#自己再写一遍\n",
        "class TreeNode:            #节点有两个属性，数据，子节点\n",
        "    def __init__(self):     #一个功能：增加子节点\n",
        "        self.data = None\n",
        "        self.childrenList = []\n",
        "    def addChild(self,Node):\n",
        "        self.childrenList.append(Node)\n",
        "\n",
        "class Tree:\n",
        "    def __init__(self,maxNode):\n",
        "        self.root = None\n",
        "        self.nodes = [TreeNode() for i in range(maxNode)]\n",
        "    def getTreeNode(self,id):\n",
        "        return self.nodes[id]\n",
        "    def setRoot(self,id):\n",
        "        self.root = self.getTreeNode(id)\n",
        "    def addTreeNode(self,pid,sid):\n",
        "        pNode = self.getTreeNode(pid)\n",
        "        sNode = self.getTreeNode(sid)\n",
        "        pNode.addChild(sNode)\n",
        "    def assginData(self,id,data):\n",
        "        self.getTreeNode(id).data = data\n",
        "\n",
        "    def Print(self,node = None):\n",
        "        if node == None:\n",
        "            node = self.root\n",
        "        print(node.data,end = ' ')\n",
        "        for child in node.childrenList:\n",
        "            self.Print(child)"
      ],
      "metadata": {
        "id": "O-buXc-zRulU"
      },
      "execution_count": 36,
      "outputs": []
    },
    {
      "cell_type": "markdown",
      "source": [
        "![image.png](data:image/png;base64,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)"
      ],
      "metadata": {
        "id": "d_-1BuV3XERv"
      }
    },
    {
      "cell_type": "code",
      "source": [
        "t = Tree(9)\n",
        "t.setRoot(0)\n",
        "#assignData\n",
        "t.assginData(0,'a')\n",
        "t.assginData(1,'b')\n",
        "t.assginData(2,'c')\n",
        "t.assginData(3,'d')\n",
        "t.assginData(4,'e')\n",
        "t.assginData(5,'f')\n",
        "t.assginData(6,'g')\n",
        "t.assginData(7,'h')\n",
        "t.assginData(8,'i')\n",
        "\n",
        "#setalign\n",
        "t.addTreeNode(0,1)\n",
        "t.addTreeNode(0,2)\n",
        "t.addTreeNode(1,3)\n",
        "t.addTreeNode(2,4)\n",
        "t.addTreeNode(2,5)\n",
        "t.addTreeNode(3,6)\n",
        "t.addTreeNode(3,7)\n",
        "t.addTreeNode(3,8)\n",
        "\n",
        "t.Print()"
      ],
      "metadata": {
        "colab": {
          "base_uri": "https://localhost:8080/"
        },
        "id": "H3KhHcpPVSBX",
        "outputId": "e049fa59-a53e-4212-cc8d-c0deb84ea034"
      },
      "execution_count": 37,
      "outputs": [
        {
          "output_type": "stream",
          "name": "stdout",
          "text": [
            "a b d g h i c e f "
          ]
        }
      ]
    },
    {
      "cell_type": "markdown",
      "source": [
        "[2236. 判断根结点是否等于子结点之和](https://leetcode.cn/problems/root-equals-sum-of-children/description/)\n",
        "\n",
        "[104. 二叉树的最大深度](https://leetcode.cn/problems/maximum-depth-of-binary-tree/description/)\n",
        "\n",
        "[LCR 175. 计算二叉树的深度](https://leetcode.cn/problems/er-cha-shu-de-shen-du-lcof/description/)"
      ],
      "metadata": {
        "id": "9cDYhMfZZ_je"
      }
    }
  ]
}