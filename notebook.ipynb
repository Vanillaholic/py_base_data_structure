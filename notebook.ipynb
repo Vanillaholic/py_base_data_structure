{
  "metadata": {
    "kernelspec": {
      "name": "python",
      "display_name": "Python (Pyodide)",
      "language": "python"
    },
    "language_info": {
      "codemirror_mode": {
        "name": "python",
        "version": 3
      },
      "file_extension": ".py",
      "mimetype": "text/x-python",
      "name": "python",
      "nbconvert_exporter": "python",
      "pygments_lexer": "ipython3",
      "version": "3.8"
    }
  },
  "nbformat_minor": 4,
  "nbformat": 4,
  "cells": [
    {
      "cell_type": "markdown",
      "source": "## 1顺序表",
      "metadata": {}
    },
    {
      "cell_type": "code",
      "source": "\nclass SequentialList:\n    def __init__(self):\n        self.capacity = 10\n        self.size = 0\n        self.elements = [0] * self.capacity\n\n    def __del__(self):\n\n        del self.elements\n\n    def size(self):\n \n        return self.size\n\n    def is_empty(self):\n  \n        return self.size == 0\n\n    def insert(self, index, element):\n\n        if index < 0 or index > self.size:\n            raise ValueError(\"Invalid index\")\n        if self.size == self.capacity:\n            self.resize()\n        for i in range(self.size, index, -1):\n            self.elements[i] = self.elements[i - 1]\n        self.elements[index] = element\n        self.size += 1\n\n    def remove(self, index):\n\n        if index < 0 or index >= self.size:\n            raise ValueError(\"Invalid index\")\n        self.elements[index] = 0\n        for i in range(index + 1, self.size):\n            self.elements[i - 1] = self.elements[i]\n        self.size -= 1\n\n    def get(self, index):\n\n        if index < 0 or index >= self.size:\n            raise ValueError(\"Invalid index\")\n        return self.elements[index]\n\n    def set(self, index, element):\n\n        if index < 0 or index >= self.size:\n            raise ValueError(\"Invalid index\")\n        self.elements[index] = element\n\n    def find(self, element):\n\n        for i in range(self.size):\n            if self.elements[i] == element:\n                return i\n        return -1\n\n    def resize(self):\n\n        new_capacity = self.capacity * 2\n        new_elements = [0] * new_capacity\n        for i in range(self.size):\n            new_elements[i] = self.elements[i]\n        self.capacity = new_capacity\n        self.elements = new_elements\n\n    def __iter__(self):\n\n        for i in range(self.size):\n            yield self.elements[i]\n\n    def __str__(self):\n\n        return \"Sequential List: \" + str(self.elements[:self.size])\n",
      "metadata": {
        "trusted": true
      },
      "outputs": [],
      "execution_count": null
    },
    {
      "cell_type": "markdown",
      "source": "此外直接使用python中的列表",
      "metadata": {}
    },
    {
      "cell_type": "markdown",
      "source": "## 2单向链表",
      "metadata": {}
    },
    {
      "cell_type": "code",
      "source": "class ListNode:  #python中没有指针，先定义一个节点\n    def __init__(self,x):\n        self.val = x      #数据域\n        self.next = None  #指针域\nclass LinkedList:\n    def __init__(self):\n        # 初始化链表，将链表头指针设为None，表示链表初始为空\n        self.head = None\n        # 初始化链表长度为0，用于记录链表中节点的个数\n        self.len = 0\n\n    def size(self):\n        # 返回链表当前的长度，外部代码可以通过调用此方法获取链表节点数量\n        return self.len\n\n    def insert(self, pos, val):\n        # 检查传入的插入位置pos是否有效\n        # 如果pos小于0或者大于链表当前长度self.len，则抛出ValueError异常表示位置无效\n        if pos < 0 or pos > self.len:\n            raise ValueError(\"无效的位置\")\n        # 创建一个新的节点，其值为传入的val，这里假设ListNode是一个已经定义好的表示链表节点的类\n        newNode = ListNode(val)\n        if pos == 0:\n            # 如果插入位置是0，也就是在链表头部插入节点\n            # 先让新节点的next指针指向当前的头节点（self.head）\n            newNode.next = self.head\n            # 再更新链表的头指针self.head为新节点，使新节点成为链表的新头部\n            self.head = newNode\n        else:\n       # 如果插入位置大于0，说明要在链表中间或者尾部插入节点。\n        # 首先，我们需要找到要插入位置的前一个节点，用 prev 指针来指向它。\n        # 先将 prev 指针初始化为链表的头节点 self.head，因为我们要从链表头开始遍历查找。\n            prev = self.head\n        # 通过以下循环，从链表头开始，让 prev 指针逐步向后移动，每次移动到下一个节点，\n        # 循环次数为 pos - 1 次，这样就能保证循环结束后，prev 指针正好指向要插入位置的前一个节点。\n        # 例如，要在位置 3 插入节点（pos = 3），那我们需要从链表头开始移动 2 次（pos - 1 = 2），\n        # 使得 prev 指针停留在第 2 个节点处，该节点就是要插入位置（第 3 个位置）的前一个节点。\n            for _ in range(pos - 1):\n                prev = prev.next\n        # 找到要插入位置的前一个节点（prev 所指向的节点）后，接下来要进行插入操作。\n        # 先将新节点（newNode）的 next 指针指向 prev 节点的下一个节点（prev.next），\n        # 这一步操作相当于把新节点“接入”到链表中，让它指向原来在插入位置上的那个节点，\n        # 保证链表在插入新节点后节点之间的连接依然正确。\n            newNode.next = prev.next\n        # 然后，再将 prev 节点的 next 指针指向新节点，这样就完成了新节点在指定位置的插入。\n        # 此时，prev 节点原本指向的下一个节点变成了新节点的后继节点，新节点成功插入到了链表中指定的位置。\n            prev.next = newNode\n\n        self.len += 1\n\n    def delete(self, pos):\n        if pos < 0 or pos >= self.len:\n            raise ValueError(\"无效的位置\")\n        if pos == 0:\n            self.head = self.head.next\n        else:\n            prev = self.head\n            for _ in range(pos - 1):\n                prev = prev.next\n            prev.next = prev.next.next\n        self.len -= 1\n\n    def update(self, pos, val):\n        if pos < 0 or pos >= self.len:\n            raise ValueError(\"无效的位置\")\n        if pos == 0:\n            self.head.val = val\n        else:\n            current = self.head\n            for _ in range(pos):\n                current = current.next\n            current.val = val\n\n    def search(self, val):\n        current = self.head\n        while current:\n            if current.val == val:\n                return current\n            current = current.next\n        return None\n\n    def index(self, val):\n        index = 0\n        current = self.head\n        while current:\n            if current.val == val:\n                return index\n            index += 1\n            current = current.next\n        return -1\n\t\n    def print(self):\n        current = self.head\n        while current:\n            print(current.val, end='->')\n            current = current.next\n        print('None')",
      "metadata": {
        "trusted": true
      },
      "outputs": [],
      "execution_count": null
    },
    {
      "cell_type": "code",
      "source": "class MyList:\n    def __init__(self):\n        self.len = 0\n        self.head = None\n    def insert(self,pos,val):\n        if pos<0 or pos>self.len:\n            return ValueError(\"Invalid Position!\")\n        newNode = ListNode(val)\n        if pos == 0:\n            newNode = self.head\n            self.head = newNode\n        else:\n            prev = self.head\n            for _ in range(pos - 1):\n                prev = prev.next\n            newNode.next = prev.next\n            prev.next = newNode\n        self.len += 1",
      "metadata": {
        "trusted": true
      },
      "outputs": [],
      "execution_count": null
    },
    {
      "cell_type": "code",
      "source": "l = MyList()\nl.insert(0,2)",
      "metadata": {
        "trusted": true
      },
      "outputs": [],
      "execution_count": null
    },
    {
      "cell_type": "markdown",
      "source": "## 3栈\n\n栈通常用于实现函数调用、递归、表达式求值等操作\n\n顺序表实现",
      "metadata": {}
    },
    {
      "cell_type": "code",
      "source": "class Stack:\n    def __init__(self):\n        self.data = []\n    def push(self,val):             #入栈\n        self.data.append(val)\n    def pop(self):                  #出栈\n        if self.empty():\n            return \"Stack is empty\"\n        return self.data.pop()\n    def top(self):                  #获取栈顶\n        if self.empty():\n            return \"Stack is empty\"\n        return self.data[-1]\n    def size(self):                  #栈大小\n        return len(self.data)\n    def empty(self):                #栈是否空\n        return len(self.data) == 0",
      "metadata": {
        "trusted": true
      },
      "outputs": [],
      "execution_count": null
    },
    {
      "cell_type": "code",
      "source": "stk = Stack()\nstk.push(1)\nstk.push(2)\nstk.push(6)\nstk.push(5)",
      "metadata": {
        "trusted": true
      },
      "outputs": [],
      "execution_count": null
    },
    {
      "cell_type": "code",
      "source": "print(stk.top())",
      "metadata": {
        "trusted": true
      },
      "outputs": [],
      "execution_count": null
    },
    {
      "cell_type": "code",
      "source": "while not stk.empty():\n    stk.pop()\nstk.empty()",
      "metadata": {
        "trusted": true
      },
      "outputs": [],
      "execution_count": null
    },
    {
      "cell_type": "code",
      "source": "class MyStack:\n    def __init__(self):\n        self.data = []\n    def push(self,val):\n        self.data.append(val)\n    def pop(self):\n        if self.empty():\n            return \"stack is empty\"\n        return self.data.pop()\n    def top(self):\n        if self.empty():\n            return \"stack is empty\"\n        return self.data[-1]\n    def size(self):\n        return len(self.data)\n    def empty(self):\n        return len(self.data) == 0",
      "metadata": {
        "trusted": true
      },
      "outputs": [],
      "execution_count": null
    },
    {
      "cell_type": "markdown",
      "source": "实际上，列表就可以当作栈来使用 入栈·append· 栈顶：·[-1]· 出栈·pop()·",
      "metadata": {}
    },
    {
      "cell_type": "markdown",
      "source": "## 4队列",
      "metadata": {}
    },
    {
      "cell_type": "code",
      "source": "class Queue:\n    def __init__(self):\n        self.data = []\n        self.head = 0        #头指针为0\n        self.tail = 0        #尾指针为0\n    def push(self,val):\n        self.data.append(val)\n        self.tail += 1\n    def pop(self):            #删除\n        if self.empty():\n            raise \"Queue is empty\"\n        val = self.data[self.head]\n        self.head += 1\n        return val  ###################\n\n    def front(self):\n        if self.empty():\n            raise \"Queue is empty\"\n        val = self.data[self.head]\n        return val\n    \n    def size(self):\n        return self.head - self.tail\n\n    def empty(self):\n        return self.head == self.tail\n    ",
      "metadata": {
        "trusted": true
      },
      "outputs": [],
      "execution_count": null
    },
    {
      "cell_type": "code",
      "source": "q = Queue()\nq.push(1)\nq.push(2)\nq.push(3)",
      "metadata": {
        "trusted": true
      },
      "outputs": [],
      "execution_count": null
    },
    {
      "cell_type": "code",
      "source": "while not q.empty():\n    print(q.front())\n    q.pop()",
      "metadata": {
        "trusted": true
      },
      "outputs": [],
      "execution_count": null
    },
    {
      "cell_type": "code",
      "source": "q.empty()",
      "metadata": {
        "trusted": true
      },
      "outputs": [],
      "execution_count": null
    },
    {
      "cell_type": "code",
      "source": "q.push(5)\nprint(q.front())",
      "metadata": {
        "trusted": true
      },
      "outputs": [],
      "execution_count": null
    },
    {
      "cell_type": "markdown",
      "source": "\n## 6字符串",
      "metadata": {}
    },
    {
      "cell_type": "code",
      "source": "# 创建\ns = ''",
      "metadata": {
        "trusted": true
      },
      "outputs": [],
      "execution_count": null
    },
    {
      "cell_type": "code",
      "source": "# 拼接\ns = s + 'hello'\nprint(s)\ns += ' world'\nprint(s)",
      "metadata": {
        "trusted": true
      },
      "outputs": [],
      "execution_count": null
    },
    {
      "cell_type": "code",
      "source": "# 获取长度\nprint(len(s))",
      "metadata": {
        "trusted": true
      },
      "outputs": [],
      "execution_count": null
    },
    {
      "cell_type": "code",
      "source": "# 查\nidx = s.find('world')\nprint(idx)\n\nidx = s.find('World')\nprint(idx)",
      "metadata": {
        "trusted": true
      },
      "outputs": [],
      "execution_count": null
    },
    {
      "cell_type": "code",
      "source": "# 索引\nprint(s[3])",
      "metadata": {
        "trusted": true
      },
      "outputs": [],
      "execution_count": null
    },
    {
      "cell_type": "code",
      "source": "# 切片\nprint(s[3:5])\nprint(s[:5])\nprint(s[3:])\nprint(s[:])\nprint(s[:-1])",
      "metadata": {
        "trusted": true
      },
      "outputs": [],
      "execution_count": null
    },
    {
      "cell_type": "code",
      "source": "# 拷贝\nt = \"x\"\ns = t\nprint(s)",
      "metadata": {
        "trusted": true
      },
      "outputs": [],
      "execution_count": null
    }
  ]
}