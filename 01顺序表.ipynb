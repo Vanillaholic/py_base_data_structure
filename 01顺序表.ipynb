{
  "metadata": {
    "kernelspec": {
      "name": "python",
      "display_name": "Python (Pyodide)",
      "language": "python"
    },
    "language_info": {
      "codemirror_mode": {
        "name": "python",
        "version": 3
      },
      "file_extension": ".py",
      "mimetype": "text/x-python",
      "name": "python",
      "nbconvert_exporter": "python",
      "pygments_lexer": "ipython3",
      "version": "3.8"
    }
  },
  "nbformat_minor": 4,
  "nbformat": 4,
  "cells": [
    {
      "cell_type": "markdown",
      "source": "## 顺序表",
      "metadata": {}
    },
    {
      "cell_type": "code",
      "source": "class SequentialList:\n    def __init__(self):\n        self.capacity = 10\n        self.size = 0\n        self.elements = [0] * self.capacity\n\n    def __del__(self):\n\n        del self.elements\n\n    def size(self):\n \n        return self.size\n\n    def is_empty(self):\n  \n        return self.size == 0\n\n    def insert(self, index, element):\n\n        if index < 0 or index > self.size:\n            raise ValueError(\"Invalid index\")\n        if self.size == self.capacity:\n            self.resize()\n        for i in range(self.size, index, -1):\n            self.elements[i] = self.elements[i - 1]\n        self.elements[index] = element\n        self.size += 1\n\n    def remove(self, index):\n\n        if index < 0 or index >= self.size:\n            raise ValueError(\"Invalid index\")\n        self.elements[index] = 0\n        for i in range(index + 1, self.size):\n            self.elements[i - 1] = self.elements[i]\n        self.size -= 1\n\n    def get(self, index):\n\n        if index < 0 or index >= self.size:\n            raise ValueError(\"Invalid index\")\n        return self.elements[index]\n\n    def set(self, index, element):\n\n        if index < 0 or index >= self.size:\n            raise ValueError(\"Invalid index\")\n        self.elements[index] = element\n\n    def find(self, element):\n\n        for i in range(self.size):\n            if self.elements[i] == element:\n                return i\n        return -1\n\n    def resize(self):\n\n        new_capacity = self.capacity * 2\n        new_elements = [0] * new_capacity\n        for i in range(self.size):\n            new_elements[i] = self.elements[i]\n        self.capacity = new_capacity\n        self.elements = new_elements\n\n    def __iter__(self):\n\n        for i in range(self.size):\n            yield self.elements[i]\n\n    def __str__(self):\n\n        return \"Sequential List: \" + str(self.elements[:self.size])",
      "metadata": {
        "trusted": true
      },
      "outputs": [],
      "execution_count": null
    },
    {
      "cell_type": "code",
      "source": "此外直接使用python中的列表",
      "metadata": {
        "trusted": true
      },
      "outputs": [],
      "execution_count": null
    }
  ]
}